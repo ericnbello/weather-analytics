{
 "cells": [
  {
   "cell_type": "markdown",
   "metadata": {},
   "source": [
    "# Analyzing Weather Data from OpenWeather.org\n",
    "\n",
    "For this project, I analyzed weather data sourced from OpenWeather.org. This endeavor aimed to showcase my proficiency in data analysis, visualization, and communication of insights. I began by setting up my Python environment, leveraging essential libraries like requests, pandas, and matplotlib to ensure smooth data retrieval, manipulation, and visualization."
   ]
  },
  {
   "cell_type": "code",
   "execution_count": 4,
   "metadata": {},
   "outputs": [],
   "source": [
    "import requests\n",
    "import pandas as pd\n",
    "import matplotlib.pyplot as plt"
   ]
  },
  {
   "cell_type": "markdown",
   "metadata": {},
   "source": [
    "To access the wealth of weather data provided by OpenWeather.org, I secured an API key. This unique identifier grants me the necessary authorization to query their API and obtain real-time weather information. Acquiring this API key involved registering on OpenWeather.org's platform.\n",
    "\n",
    "Additionally, as it's important to keep it private, I placed it in a local file and used an environment variable to reference it throughout the project."
   ]
  },
  {
   "cell_type": "code",
   "execution_count": 5,
   "metadata": {},
   "outputs": [],
   "source": [
    "import os\n",
    "from dotenv import load_dotenv\n",
    "load_dotenv()\n",
    "\n",
    "api_key = os.environ.get('OPENWEATHER_API_KEY')\n",
    "city = 'Miami'\n",
    "country_code = 'us'"
   ]
  },
  {
   "cell_type": "code",
   "execution_count": 6,
   "metadata": {},
   "outputs": [],
   "source": [
    "# Forecast data\n",
    "url = f'http://api.openweathermap.org/data/2.5/forecast?q={city},{country_code}&cnt=40&appid={api_key}'\n",
    "response = requests.get(url)\n",
    "data = response.json()"
   ]
  },
  {
   "cell_type": "markdown",
   "metadata": {},
   "source": [
    "By querying OpenWeather.org's API, I retrieved a 5-day forecast for Miami. This resulted in a JSON object containing a wealth of information about the upcoming weather. I then extracted key metrics such as temperature, humidity, and weather descriptions."
   ]
  },
  {
   "cell_type": "code",
   "execution_count": 7,
   "metadata": {},
   "outputs": [
    {
     "data": {
      "text/html": [
       "<div>\n",
       "<style scoped>\n",
       "    .dataframe tbody tr th:only-of-type {\n",
       "        vertical-align: middle;\n",
       "    }\n",
       "\n",
       "    .dataframe tbody tr th {\n",
       "        vertical-align: top;\n",
       "    }\n",
       "\n",
       "    .dataframe thead th {\n",
       "        text-align: right;\n",
       "    }\n",
       "</style>\n",
       "<table border=\"1\" class=\"dataframe\">\n",
       "  <thead>\n",
       "    <tr style=\"text-align: right;\">\n",
       "      <th></th>\n",
       "      <th>Timestamp</th>\n",
       "      <th>Temperature (K)</th>\n",
       "      <th>Humidity (%)</th>\n",
       "      <th>Weather</th>\n",
       "    </tr>\n",
       "  </thead>\n",
       "  <tbody>\n",
       "    <tr>\n",
       "      <td>0</td>\n",
       "      <td>1696021200</td>\n",
       "      <td>300.97</td>\n",
       "      <td>77</td>\n",
       "      <td>light rain</td>\n",
       "    </tr>\n",
       "    <tr>\n",
       "      <td>1</td>\n",
       "      <td>1696032000</td>\n",
       "      <td>301.64</td>\n",
       "      <td>73</td>\n",
       "      <td>light rain</td>\n",
       "    </tr>\n",
       "    <tr>\n",
       "      <td>2</td>\n",
       "      <td>1696042800</td>\n",
       "      <td>301.94</td>\n",
       "      <td>71</td>\n",
       "      <td>light rain</td>\n",
       "    </tr>\n",
       "    <tr>\n",
       "      <td>3</td>\n",
       "      <td>1696053600</td>\n",
       "      <td>302.24</td>\n",
       "      <td>71</td>\n",
       "      <td>few clouds</td>\n",
       "    </tr>\n",
       "    <tr>\n",
       "      <td>4</td>\n",
       "      <td>1696064400</td>\n",
       "      <td>301.93</td>\n",
       "      <td>74</td>\n",
       "      <td>few clouds</td>\n",
       "    </tr>\n",
       "  </tbody>\n",
       "</table>\n",
       "</div>"
      ],
      "text/plain": [
       "    Timestamp  Temperature (K)  Humidity (%)     Weather\n",
       "0  1696021200           300.97            77  light rain\n",
       "1  1696032000           301.64            73  light rain\n",
       "2  1696042800           301.94            71  light rain\n",
       "3  1696053600           302.24            71  few clouds\n",
       "4  1696064400           301.93            74  few clouds"
      ]
     },
     "execution_count": 7,
     "metadata": {},
     "output_type": "execute_result"
    }
   ],
   "source": [
    "forecast_list = data['list']\n",
    "\n",
    "# Initializing lists to store data\n",
    "timestamps = []\n",
    "temperatures = []\n",
    "humidities = []\n",
    "weather_descriptions = []\n",
    "\n",
    "# Extracting data\n",
    "for entry in forecast_list:\n",
    "    timestamps.append(entry['dt'])\n",
    "    temperatures.append(entry['main']['temp'])\n",
    "    humidities.append(entry['main']['humidity'])\n",
    "    weather_descriptions.append(entry['weather'][0]['description'])\n",
    "\n",
    "# Creating a DataFrame to organize this data for further analysis and visualization\n",
    "df = pd.DataFrame({\n",
    "    'Timestamp': timestamps,\n",
    "    'Temperature (K)': temperatures,\n",
    "    'Humidity (%)': humidities,\n",
    "    'Weather': weather_descriptions\n",
    "})\n",
    "\n",
    "df.head()"
   ]
  },
  {
   "cell_type": "markdown",
   "metadata": {},
   "source": [
    "### Clean and Explore Data\n",
    "\n",
    "Before visualization, I took a moment to preprocess the data. This involved converting temperature from Kelvin to Celsius for easier interpretation. Additionally, I explored the dataset to understand the nature and scope of the information I had gathered."
   ]
  },
  {
   "cell_type": "code",
   "execution_count": 8,
   "metadata": {},
   "outputs": [
    {
     "name": "stdout",
     "output_type": "stream",
     "text": [
      "    Timestamp  Temperature (K)  Humidity (%)     Weather  Temperature (C)\n",
      "0  1696021200           300.97            77  light rain            27.82\n",
      "1  1696032000           301.64            73  light rain            28.49\n",
      "2  1696042800           301.94            71  light rain            28.79\n",
      "3  1696053600           302.24            71  few clouds            29.09\n",
      "4  1696064400           301.93            74  few clouds            28.78\n"
     ]
    }
   ],
   "source": [
    "# Convert temperature from Kelvin to Celsius\n",
    "df['Temperature (C)'] = df['Temperature (K)'] - 273.15\n",
    "\n",
    "# Explore the dataset\n",
    "print(df.head())"
   ]
  },
  {
   "cell_type": "markdown",
   "metadata": {},
   "source": [
    "### Visualize the Data\n",
    "\n",
    "With the data organized, it was time to breathe life into it through visualizations. I began with a line chart to display the temperature trends over the 5-day period."
   ]
  },
  {
   "cell_type": "code",
   "execution_count": 9,
   "metadata": {},
   "outputs": [
    {
     "data": {
      "image/png": "[encoded data removed]",
      "text/plain": [
       "<Figure size 720x432 with 1 Axes>"
      ]
     },
     "metadata": {
      "needs_background": "light"
     },
     "output_type": "display_data"
    }
   ],
   "source": [
    "# Plotting temperature trends\n",
    "plt.figure(figsize=(10, 6))\n",
    "plt.plot(df['Timestamp'], df['Temperature (C)'], marker='o')\n",
    "plt.title('Temperature Trends over 5 Days')\n",
    "plt.xlabel('Timestamp')\n",
    "plt.ylabel('Temperature (°C)')\n",
    "plt.grid(True)\n",
    "plt.show()"
   ]
  },
  {
   "cell_type": "markdown",
   "metadata": {},
   "source": [
    "Additionally, I created a histogram to provide insights into the distribution of humidity levels over this period."
   ]
  },
  {
   "cell_type": "code",
   "execution_count": 10,
   "metadata": {},
   "outputs": [
    {
     "data": {
      "image/png": "[encoded data removed]",
      "text/plain": [
       "<Figure size 720x432 with 1 Axes>"
      ]
     },
     "metadata": {
      "needs_background": "light"
     },
     "output_type": "display_data"
    }
   ],
   "source": [
    "# Plotting histogram for humidity distribution\n",
    "plt.figure(figsize=(10, 6))\n",
    "plt.hist(df['Humidity (%)'], bins=20, color='skyblue', edgecolor='black')\n",
    "plt.title('Humidity Distribution')\n",
    "plt.xlabel('Humidity (%)')\n",
    "plt.ylabel('Frequency')\n",
    "plt.grid(True)\n",
    "plt.show()"
   ]
  },
  {
   "cell_type": "markdown",
   "metadata": {},
   "source": [
    "In this phase, I meticulously documented my analysis. I began by providing context about the data source and the objectives of the project. I then detailed the steps taken in each phase, from data retrieval to visualization. Additionally, I highlighted key observations and insights gleaned from the weather data."
   ]
  },
  {
   "cell_type": "markdown",
   "metadata": {},
   "source": [
    "### Conclusion\n",
    "\n",
    "In this analysis, I retrieved weather data from OpenWeather.org for Miami. After obtaining the data, I performed data cleaning to convert temperatures from Kelvin to Celsius for better understanding.\n",
    "\n",
    "The visualizations I created gave a clear overview of the forecasted temperature and humidity levels. These insights can be used to draw conclusions about the future weather conditions in Miami.\n"
   ]
  },
  {
   "cell_type": "markdown",
   "metadata": {},
   "source": [
    "### Additional\n",
    "\n",
    "This project complements the Django web app I created written in Python that shows current weather conditions, 48-hour and 7-day forecasts, local radar, and more for a user inputted location. View it [here](https://www.weather-forecast-ericnbello.herokuapp.com)."
   ]
  }
 ],
 "metadata": {
  "kernelspec": {
   "display_name": "Python 3",
   "language": "python",
   "name": "python3"
  },
  "language_info": {
   "codemirror_mode": {
    "name": "ipython",
    "version": 3
   },
   "file_extension": ".py",
   "mimetype": "text/x-python",
   "name": "python",
   "nbconvert_exporter": "python",
   "pygments_lexer": "ipython3",
   "version": "3.7.4"
  }
 },
 "nbformat": 4,
 "nbformat_minor": 4
}
